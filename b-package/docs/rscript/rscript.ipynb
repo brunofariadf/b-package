{
 "cells": [
  {
   "cell_type": "markdown",
   "metadata": {},
   "source": [
    "# rscript <img src=\"../img/rscript.png\" align=\"right\" width=\"100\" />\n",
    "![status:development](https://img.shields.io/badge/status-development-blue)\n",
    "## Overview\n",
    "\n",
    "Create and comment in script R. The creation of the r script inserts the information from the code development environment such as code editor, platform, author name, among others. Comments can be called interactively with output on the clipboard or in console.\n",
    "\n",
    "| package |  version   |      license       |             title              |\n",
    "|:-------:|:----------:|:------------------:|:------------------------------:|\n",
    "| rscript | 0.0.0.9000 | MIT + file LICENSE | Create and Comment in Script R |\n",
    "\n",
    "\n",
    "## Installation\n",
    "\n",
    "CRAN\n",
    "``` r\n",
    "Wait.\n",
    "```\n",
    "\n",
    "[Github](https://github.com/brunofariadf/rscript)\n",
    "``` r\n",
    "remotes::install_github(\"brunofariadf/rscript\")\n",
    "```\n",
    "\n",
    "## Function\n",
    "\n",
    "|      function       |                                                                      argument                                                                      |          title           |\n",
    "|:--------------:|:--------------------------------------------------------------------------------------------------------------------------------------------------:|:------------------------:|\n",
    "| script_comment |                                   (x, type_comment = \"h1\", type_line = \"-\", type_size = NULL, clipboard = TRUE)                                    | Comment Type to Script R |\n",
    "|  script_count  |                                                           (path, exclude = \"#&#124;^$\")                                                            |    Count Line of Code    |\n",
    "| script_create  |           (path, name_script, name_author = NULL, name_project = NULL, type_line = \"-\", type_size = 42, add_line = NULL, rm_line = NULL)           |     Create R Script      |\n",
    "|  script_head   | (name_author = NULL, name_project = NULL, type_language = \"r\", type_line = \"-\", type_size = 42, add_line = NULL, rm_line = NULL, clipboard = TRUE) |    Header to R Script    |"
   ]
  },
  {
   "cell_type": "markdown",
   "metadata": {},
   "source": [
    "## Argument\n",
    "\n",
    "### `rscript::script_comment(x, type_comment = \"h1\", type_line = \"-\", type_size = NULL, clipboard = TRUE)`"
   ]
  },
  {
   "cell_type": "markdown",
   "metadata": {},
   "source": [
    "|   argument   |                                            description                                            |\n",
    "|:------------:|:-------------------------------------------------------------------------------------------------:|\n",
    "|      x       |    character class vector that indicates the message of the title or subtitle of the comment.     |\n",
    "| type_comment |      character class vector that indicates the comment type with option 'h1', 'h2' or 'h3'.       |\n",
    "|  type_line   |                 character class vector that indicates the format type to header.                  |\n",
    "|  type_size   |                     numeric class vector that indicates the length to header.                     |\n",
    "|  clipboard   | logical class vector that indicates output to clipboard or console with option 'TRUE' or 'FALSE'. |"
   ]
  },
  {
   "cell_type": "markdown",
   "metadata": {},
   "source": [
    "### `rscript::script_count(path, exclude = \"#|^$\")`"
   ]
  },
  {
   "cell_type": "markdown",
   "metadata": {},
   "source": [
    "| argument |                                      description                                      |\n",
    "|:--------:|:-------------------------------------------------------------------------------------:|\n",
    "|   path   |                 character class vector that indicates the file path.                  |\n",
    "| exclude  | character class vector that indicates the default to exclude with regular expression. |"
   ]
  },
  {
   "cell_type": "markdown",
   "metadata": {},
   "source": [
    "### `rscript::script_create(path, name_script, name_author = NULL, name_project = NULL, type_line = \"-\", type_size = 42, add_line = NULL, rm_line = NULL)`"
   ]
  },
  {
   "cell_type": "markdown",
   "metadata": {},
   "source": [
    "|   argument   |                               description                               |\n",
    "|:------------:|:-----------------------------------------------------------------------:|\n",
    "|     path     |        character class vector that indicates the directory path.        |\n",
    "| name_script  |          character class vector that indicates the file name.           |\n",
    "| name_author  |         character class vector that indicates the author name.          |\n",
    "| name_project |        character class vector that indicates the author project.        |\n",
    "|  type_line   |    character class vector that indicates the format type to header.     |\n",
    "|  type_size   |        numeric class vector that indicates the length to header.        |\n",
    "|   add_line   |  numeric class vector that indicates the vector to add in the header.   |\n",
    "|   rm_line    | numeric class vector that indicates the vector to remove in the header. |"
   ]
  },
  {
   "cell_type": "markdown",
   "metadata": {},
   "source": [
    "### `rscript::script_head(name_author = NULL, name_project = NULL, type_language = \"r\", type_line = \"-\", type_size = 42, add_line = NULL, rm_line = NULL, clipboard = TRUE)`"
   ]
  },
  {
   "cell_type": "markdown",
   "metadata": {},
   "source": [
    "|   argument    |                                            description                                            |\n",
    "|:-------------:|:-------------------------------------------------------------------------------------------------:|\n",
    "|  name_author  |                      character class vector that indicates the author name.                       |\n",
    "| name_project  |                     character class vector that indicates the author project.                     |\n",
    "| type_language | character class vector that indicates the language version with option 'r', 'python' and 'julia'. |\n",
    "|   type_line   |                 character class vector that indicates the format type to header.                  |\n",
    "|   type_size   |                     numeric class vector that indicates the length to header.                     |\n",
    "|   add_line    |               numeric class vector that indicates the vector to add in the header.                |\n",
    "|    rm_line    |              numeric class vector that indicates the vector to remove in the header.              |\n",
    "|   clipboard   | logical class vector that indicates output to clipboard or console with option 'TRUE' or 'FALSE'. |"
   ]
  },
  {
   "cell_type": "markdown",
   "metadata": {},
   "source": [
    "## Usage\n",
    "\n",
    "### `rscript::script_comment()`"
   ]
  },
  {
   "cell_type": "code",
   "execution_count": 36,
   "metadata": {
    "vscode": {
     "languageId": "r"
    }
   },
   "outputs": [
    {
     "data": {
      "text/html": [
       "<style>\n",
       ".list-inline {list-style: none; margin:0; padding: 0}\n",
       ".list-inline>li {display: inline-block}\n",
       ".list-inline>li:not(:last-child)::after {content: \"\\00b7\"; padding: 0 .5ex}\n",
       "</style>\n",
       "<ol class=list-inline><li>'## --------------------------------------------------------------------------------'</li><li>'## Hello world! - date: 2022-08-01 22:08:26'</li><li>'## --------------------------------------------------------------------------------'</li></ol>\n"
      ],
      "text/latex": [
       "\\begin{enumerate*}\n",
       "\\item '\\#\\# --------------------------------------------------------------------------------'\n",
       "\\item '\\#\\# Hello world! - date: 2022-08-01 22:08:26'\n",
       "\\item '\\#\\# --------------------------------------------------------------------------------'\n",
       "\\end{enumerate*}\n"
      ],
      "text/markdown": [
       "1. '## --------------------------------------------------------------------------------'\n",
       "2. '## Hello world! - date: 2022-08-01 22:08:26'\n",
       "3. '## --------------------------------------------------------------------------------'\n",
       "\n",
       "\n"
      ],
      "text/plain": [
       "[1] \"## --------------------------------------------------------------------------------\"\n",
       "[2] \"## Hello world! - date: 2022-08-01 22:08:26\"                                        \n",
       "[3] \"## --------------------------------------------------------------------------------\""
      ]
     },
     "metadata": {},
     "output_type": "display_data"
    }
   ],
   "source": [
    "rscript::script_comment(\"Hello world!\", clipboard = FALSE)"
   ]
  },
  {
   "cell_type": "code",
   "execution_count": 37,
   "metadata": {
    "vscode": {
     "languageId": "r"
    }
   },
   "outputs": [
    {
     "data": {
      "text/html": [
       "'## Hello world! ---'"
      ],
      "text/latex": [
       "'\\#\\# Hello world! ---'"
      ],
      "text/markdown": [
       "'## Hello world! ---'"
      ],
      "text/plain": [
       "[1] \"## Hello world! ---\""
      ]
     },
     "metadata": {},
     "output_type": "display_data"
    }
   ],
   "source": [
    "rscript::script_comment(\"Hello world!\", type_comment = \"h3\", clipboard = FALSE)"
   ]
  },
  {
   "cell_type": "markdown",
   "metadata": {},
   "source": [
    "### `rscript::script_head()`"
   ]
  },
  {
   "cell_type": "code",
   "execution_count": 49,
   "metadata": {
    "vscode": {
     "languageId": "r"
    }
   },
   "outputs": [
    {
     "data": {
      "text/html": [
       "<style>\n",
       ".list-inline {list-style: none; margin:0; padding: 0}\n",
       ".list-inline>li {display: inline-block}\n",
       ".list-inline>li:not(:last-child)::after {content: \"\\00b7\"; padding: 0 .5ex}\n",
       "</style>\n",
       "<ol class=list-inline><li>'## ------------------------------------------'</li><li><span style=white-space:pre-wrap>'##                          Date: 2022-08-01'</span></li><li>'## ------------------------------------------'</li><li>'## Project: '</li><li>'## Author: '</li><li>'## '</li><li>'## GUI: RTerm'</li><li>'## Language: R (4.1.0)'</li><li>'## Platform: Windows'</li><li>'## ------------------------------------------'</li></ol>\n"
      ],
      "text/latex": [
       "\\begin{enumerate*}\n",
       "\\item '\\#\\# ------------------------------------------'\n",
       "\\item '\\#\\#                          Date: 2022-08-01'\n",
       "\\item '\\#\\# ------------------------------------------'\n",
       "\\item '\\#\\# Project: '\n",
       "\\item '\\#\\# Author: '\n",
       "\\item '\\#\\# '\n",
       "\\item '\\#\\# GUI: RTerm'\n",
       "\\item '\\#\\# Language: R (4.1.0)'\n",
       "\\item '\\#\\# Platform: Windows'\n",
       "\\item '\\#\\# ------------------------------------------'\n",
       "\\end{enumerate*}\n"
      ],
      "text/markdown": [
       "1. '## ------------------------------------------'\n",
       "2. <span style=white-space:pre-wrap>'##                          Date: 2022-08-01'</span>\n",
       "3. '## ------------------------------------------'\n",
       "4. '## Project: '\n",
       "5. '## Author: '\n",
       "6. '## '\n",
       "7. '## GUI: RTerm'\n",
       "8. '## Language: R (4.1.0)'\n",
       "9. '## Platform: Windows'\n",
       "10. '## ------------------------------------------'\n",
       "\n",
       "\n"
      ],
      "text/plain": [
       " [1] \"## ------------------------------------------\"\n",
       " [2] \"##                          Date: 2022-08-01\" \n",
       " [3] \"## ------------------------------------------\"\n",
       " [4] \"## Project: \"                                 \n",
       " [5] \"## Author: \"                                  \n",
       " [6] \"## \"                                          \n",
       " [7] \"## GUI: RTerm\"                                \n",
       " [8] \"## Language: R (4.1.0)\"                       \n",
       " [9] \"## Platform: Windows\"                         \n",
       "[10] \"## ------------------------------------------\""
      ]
     },
     "metadata": {},
     "output_type": "display_data"
    },
    {
     "data": {
      "text/html": [
       "<style>\n",
       ".list-inline {list-style: none; margin:0; padding: 0}\n",
       ".list-inline>li {display: inline-block}\n",
       ".list-inline>li:not(:last-child)::after {content: \"\\00b7\"; padding: 0 .5ex}\n",
       "</style>\n",
       "<ol class=list-inline><li>'## ------------------------------------------'</li><li><span style=white-space:pre-wrap>'##                          Date: 2022-08-01'</span></li><li>'## ------------------------------------------'</li><li>'## Project: '</li><li>'## Author: '</li><li>'## '</li><li>'## GUI: RTerm'</li><li>'## Language: Python (3.9.6)'</li><li>'## Platform: Windows'</li><li>'## ------------------------------------------'</li></ol>\n"
      ],
      "text/latex": [
       "\\begin{enumerate*}\n",
       "\\item '\\#\\# ------------------------------------------'\n",
       "\\item '\\#\\#                          Date: 2022-08-01'\n",
       "\\item '\\#\\# ------------------------------------------'\n",
       "\\item '\\#\\# Project: '\n",
       "\\item '\\#\\# Author: '\n",
       "\\item '\\#\\# '\n",
       "\\item '\\#\\# GUI: RTerm'\n",
       "\\item '\\#\\# Language: Python (3.9.6)'\n",
       "\\item '\\#\\# Platform: Windows'\n",
       "\\item '\\#\\# ------------------------------------------'\n",
       "\\end{enumerate*}\n"
      ],
      "text/markdown": [
       "1. '## ------------------------------------------'\n",
       "2. <span style=white-space:pre-wrap>'##                          Date: 2022-08-01'</span>\n",
       "3. '## ------------------------------------------'\n",
       "4. '## Project: '\n",
       "5. '## Author: '\n",
       "6. '## '\n",
       "7. '## GUI: RTerm'\n",
       "8. '## Language: Python (3.9.6)'\n",
       "9. '## Platform: Windows'\n",
       "10. '## ------------------------------------------'\n",
       "\n",
       "\n"
      ],
      "text/plain": [
       " [1] \"## ------------------------------------------\"\n",
       " [2] \"##                          Date: 2022-08-01\" \n",
       " [3] \"## ------------------------------------------\"\n",
       " [4] \"## Project: \"                                 \n",
       " [5] \"## Author: \"                                  \n",
       " [6] \"## \"                                          \n",
       " [7] \"## GUI: RTerm\"                                \n",
       " [8] \"## Language: Python (3.9.6)\"                  \n",
       " [9] \"## Platform: Windows\"                         \n",
       "[10] \"## ------------------------------------------\""
      ]
     },
     "metadata": {},
     "output_type": "display_data"
    },
    {
     "data": {
      "text/html": [
       "<style>\n",
       ".list-inline {list-style: none; margin:0; padding: 0}\n",
       ".list-inline>li {display: inline-block}\n",
       ".list-inline>li:not(:last-child)::after {content: \"\\00b7\"; padding: 0 .5ex}\n",
       "</style>\n",
       "<ol class=list-inline><li>'## ------------------------------------------'</li><li><span style=white-space:pre-wrap>'##                          Date: 2022-08-01'</span></li><li>'## ------------------------------------------'</li><li>'## Project: '</li><li>'## Author: '</li><li>'## '</li><li>'## GUI: RTerm'</li><li>'## Language: Julia (1.7.3)'</li><li>'## Platform: Windows'</li><li>'## ------------------------------------------'</li></ol>\n"
      ],
      "text/latex": [
       "\\begin{enumerate*}\n",
       "\\item '\\#\\# ------------------------------------------'\n",
       "\\item '\\#\\#                          Date: 2022-08-01'\n",
       "\\item '\\#\\# ------------------------------------------'\n",
       "\\item '\\#\\# Project: '\n",
       "\\item '\\#\\# Author: '\n",
       "\\item '\\#\\# '\n",
       "\\item '\\#\\# GUI: RTerm'\n",
       "\\item '\\#\\# Language: Julia (1.7.3)'\n",
       "\\item '\\#\\# Platform: Windows'\n",
       "\\item '\\#\\# ------------------------------------------'\n",
       "\\end{enumerate*}\n"
      ],
      "text/markdown": [
       "1. '## ------------------------------------------'\n",
       "2. <span style=white-space:pre-wrap>'##                          Date: 2022-08-01'</span>\n",
       "3. '## ------------------------------------------'\n",
       "4. '## Project: '\n",
       "5. '## Author: '\n",
       "6. '## '\n",
       "7. '## GUI: RTerm'\n",
       "8. '## Language: Julia (1.7.3)'\n",
       "9. '## Platform: Windows'\n",
       "10. '## ------------------------------------------'\n",
       "\n",
       "\n"
      ],
      "text/plain": [
       " [1] \"## ------------------------------------------\"\n",
       " [2] \"##                          Date: 2022-08-01\" \n",
       " [3] \"## ------------------------------------------\"\n",
       " [4] \"## Project: \"                                 \n",
       " [5] \"## Author: \"                                  \n",
       " [6] \"## \"                                          \n",
       " [7] \"## GUI: RTerm\"                                \n",
       " [8] \"## Language: Julia (1.7.3)\"                   \n",
       " [9] \"## Platform: Windows\"                         \n",
       "[10] \"## ------------------------------------------\""
      ]
     },
     "metadata": {},
     "output_type": "display_data"
    }
   ],
   "source": [
    "# in the console breaks the line\n",
    "rscript::script_head(clipboard = FALSE)\n",
    "rscript::script_head(type_language = \"python\", clipboard = FALSE)\n",
    "rscript::script_head(type_language = \"julia\", clipboard = FALSE)"
   ]
  },
  {
   "cell_type": "code",
   "execution_count": 3,
   "metadata": {
    "vscode": {
     "languageId": "r"
    }
   },
   "outputs": [],
   "source": [
    "# output correct\n",
    "\n",
    "# '## ------------------------------------------'\n",
    "# '##                          Date: 2022-08-01'\n",
    "# '## ------------------------------------------'\n",
    "# '## Project: '\n",
    "# '## Author: '\n",
    "# '## '\n",
    "# '## GUI: RTerm'\n",
    "# '## Language: R (4.1.0)'\n",
    "# '## Platform: Windows'\n",
    "# '## ------------------------------------------'\n",
    "\n",
    "# '## ------------------------------------------'\n",
    "# '##                          Date: 2022-08-01'\n",
    "# '## ------------------------------------------'\n",
    "# '## Project: '\n",
    "# '## Author: '\n",
    "# '## '\n",
    "# '## GUI: RTerm'\n",
    "# '## Language: Python (3.9.6)'\n",
    "# '## Platform: Windows'\n",
    "# '## ------------------------------------------'\n",
    "\n",
    "# '## ------------------------------------------'\n",
    "# '##                          Date: 2022-08-01'\n",
    "# '## ------------------------------------------'\n",
    "# '## Project: '\n",
    "# '## Author: '\n",
    "# '## '\n",
    "# '## GUI: RTerm'\n",
    "# '## Language: Julia (1.7.3)'\n",
    "# '## Platform: Windows'\n",
    "# '## ------------------------------------------'"
   ]
  },
  {
   "cell_type": "markdown",
   "metadata": {},
   "source": [
    "### `rscript::script_create()`"
   ]
  },
  {
   "cell_type": "code",
   "execution_count": 41,
   "metadata": {
    "vscode": {
     "languageId": "r"
    }
   },
   "outputs": [
    {
     "name": "stdout",
     "output_type": "stream",
     "text": [
      "\u001b[01;34mC:/users/Bruno/documents/tests\u001b[0m\n",
      "+-- \u001b[32mtest_0.R\u001b[0m\n",
      "+-- \u001b[32mtest_1.R\u001b[0m\n",
      "+-- \u001b[32mtest_2.R\u001b[0m\n",
      "+-- \u001b[32mtest_3.R\u001b[0m\n",
      "+-- \u001b[32mtest_4.R\u001b[0m\n",
      "+-- \u001b[32mtest_5.R\u001b[0m\n",
      "+-- \u001b[32mtest_6.R\u001b[0m\n",
      "+-- \u001b[32mtest_7.R\u001b[0m\n",
      "+-- \u001b[32mtest_8.R\u001b[0m\n",
      "\\-- \u001b[32mtest_9.R\u001b[0m\n"
     ]
    }
   ],
   "source": [
    "path_i <- file.path(\"C:\", \"users\", \"Bruno\", \"documents\", \"tests\")\n",
    "rscript::script_create(path_i, name_script = paste0(\"test_\", 0:9))\n",
    "fs::dir_tree(path_i)\n"
   ]
  },
  {
   "cell_type": "markdown",
   "metadata": {},
   "source": [
    "### `rscript::script_count()`"
   ]
  },
  {
   "cell_type": "code",
   "execution_count": 47,
   "metadata": {
    "vscode": {
     "languageId": "r"
    }
   },
   "outputs": [
    {
     "data": {
      "text/html": [
       "<style>\n",
       ".dl-inline {width: auto; margin:0; padding: 0}\n",
       ".dl-inline>dt, .dl-inline>dd {float: none; width: auto; display: inline-block}\n",
       ".dl-inline>dt::after {content: \":\\0020\"; padding-right: .5ex}\n",
       ".dl-inline>dt:not(:first-of-type) {padding-left: .5ex}\n",
       "</style><dl class=dl-inline><dt>test_0.R</dt><dd>10</dd><dt>test_1.R</dt><dd>10</dd><dt>test_2.R</dt><dd>10</dd><dt>test_3.R</dt><dd>10</dd><dt>test_4.R</dt><dd>10</dd><dt>test_5.R</dt><dd>10</dd><dt>test_6.R</dt><dd>10</dd><dt>test_7.R</dt><dd>10</dd><dt>test_8.R</dt><dd>10</dd><dt>test_9.R</dt><dd>10</dd></dl>\n"
      ],
      "text/latex": [
       "\\begin{description*}\n",
       "\\item[test\\textbackslash{}\\_0.R] 10\n",
       "\\item[test\\textbackslash{}\\_1.R] 10\n",
       "\\item[test\\textbackslash{}\\_2.R] 10\n",
       "\\item[test\\textbackslash{}\\_3.R] 10\n",
       "\\item[test\\textbackslash{}\\_4.R] 10\n",
       "\\item[test\\textbackslash{}\\_5.R] 10\n",
       "\\item[test\\textbackslash{}\\_6.R] 10\n",
       "\\item[test\\textbackslash{}\\_7.R] 10\n",
       "\\item[test\\textbackslash{}\\_8.R] 10\n",
       "\\item[test\\textbackslash{}\\_9.R] 10\n",
       "\\end{description*}\n"
      ],
      "text/markdown": [
       "test_0.R\n",
       ":   10test_1.R\n",
       ":   10test_2.R\n",
       ":   10test_3.R\n",
       ":   10test_4.R\n",
       ":   10test_5.R\n",
       ":   10test_6.R\n",
       ":   10test_7.R\n",
       ":   10test_8.R\n",
       ":   10test_9.R\n",
       ":   10\n",
       "\n"
      ],
      "text/plain": [
       "test_0.R test_1.R test_2.R test_3.R test_4.R test_5.R test_6.R test_7.R \n",
       "      10       10       10       10       10       10       10       10 \n",
       "test_8.R test_9.R \n",
       "      10       10 "
      ]
     },
     "metadata": {},
     "output_type": "display_data"
    }
   ],
   "source": [
    "path_i <- file.path(\"C:\", \"users\", \"Bruno\", \"documents\", \"tests\")\n",
    "path_i <- list.files(path_i, full.names = TRUE)\n",
    "# count comment\n",
    "rscript::script_count(path_i, exclude = \"^$\")"
   ]
  },
  {
   "cell_type": "markdown",
   "metadata": {},
   "source": [
    "## Review\n",
    "\n",
    "### rscript 0.0.0.9000 (2022-08-01)\n",
    "\n",
    "#### &gt; rscript (development)\n",
    "\n",
    "-   development\n",
    "\n",
    "#### &gt; rscript 0.0.0.9000 (2022-08-01)\n",
    "\n",
    "-   Start of the package."
   ]
  }
 ],
 "metadata": {
  "kernelspec": {
   "display_name": "R",
   "language": "R",
   "name": "ir"
  },
  "language_info": {
   "codemirror_mode": "r",
   "file_extension": ".r",
   "mimetype": "text/x-r-source",
   "name": "R",
   "pygments_lexer": "r",
   "version": "4.1.0"
  },
  "orig_nbformat": 4,
  "vscode": {
   "interpreter": {
    "hash": "22f9b13baaea1acbe777ec66c6afcb217233662477c06351c776723bc94750d1"
   }
  }
 },
 "nbformat": 4,
 "nbformat_minor": 2
}
