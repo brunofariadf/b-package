{
 "cells": [
  {
   "cell_type": "markdown",
   "metadata": {},
   "source": [
    "# vscoder <img src=\"../img/vscoder.png\" align=\"right\" width=\"100\" />\n",
    "![lifecycle:\n",
    "experimental](https://img.shields.io/badge/lifecycle-experimental-lightgrey)![status:\n",
    "development](https://img.shields.io/badge/status-development-blue)\n",
    "## Overview\n",
    "\n",
    "Some functions are provided for the workflow between the R programming language and the VS Code editor.\n",
    "\n",
    "|package |version    |license            |title                          |\n",
    "|:-------|:----------|:------------------|:------------------------------|\n",
    "|vscoder |0.2.2.9000 |MIT + file LICENSE |Working tool for R and VS Code editor |\n",
    "\n",
    "## Installation\n",
    "\n",
    "CRAN\n",
    "``` r\n",
    "Wait.\n",
    "```\n",
    "\n",
    "[Github](https://github.com/brunofariadf/vscoder)\n",
    "``` r\n",
    "remotes::install_github(\"brunofariadf/vscoder\")\n",
    "```\n",
    "\n",
    "## Function\n",
    "\n",
    "|function              |argument                        |about                    |\n",
    "|:----------------|:-------------------------------|:------------------------|\n",
    "|exists_vscode    |()                              |Check the VS Code Editor |\n",
    "|path_extension   |(extension)                     |VS Code Extension Path   |\n",
    "|vscode_extension |(type = \"basic\", format = TRUE) |VS Code Extension        |\n",
    "|vscode_version   |()                              |VS Code Version          |"
   ]
  },
  {
   "cell_type": "markdown",
   "metadata": {},
   "source": [
    "## Usage\n",
    "\n",
    "### `vscoder::exists_vscode()`"
   ]
  },
  {
   "cell_type": "code",
   "execution_count": 4,
   "metadata": {
    "vscode": {
     "languageId": "r"
    }
   },
   "outputs": [
    {
     "data": {
      "text/html": [
       "TRUE"
      ],
      "text/latex": [
       "TRUE"
      ],
      "text/markdown": [
       "TRUE"
      ],
      "text/plain": [
       "[1] TRUE"
      ]
     },
     "metadata": {},
     "output_type": "display_data"
    }
   ],
   "source": [
    "vscoder::exists_vscode()"
   ]
  },
  {
   "cell_type": "markdown",
   "metadata": {},
   "source": [
    "### `vscoder::vscode_version()`"
   ]
  },
  {
   "cell_type": "code",
   "execution_count": 3,
   "metadata": {
    "vscode": {
     "languageId": "r"
    }
   },
   "outputs": [
    {
     "data": {
      "text/html": [
       "'1.69.2'"
      ],
      "text/latex": [
       "'1.69.2'"
      ],
      "text/markdown": [
       "'1.69.2'"
      ],
      "text/plain": [
       "[1] \"1.69.2\""
      ]
     },
     "metadata": {},
     "output_type": "display_data"
    }
   ],
   "source": [
    "vscoder::vscode_version()"
   ]
  },
  {
   "cell_type": "markdown",
   "metadata": {},
   "source": [
    "### `vscoder::vscode_extension()`"
   ]
  },
  {
   "cell_type": "code",
   "execution_count": 2,
   "metadata": {
    "vscode": {
     "languageId": "r"
    }
   },
   "outputs": [
    {
     "data": {
      "text/html": [
       "<table class=\"dataframe\">\n",
       "<caption>A data.frame: 14 × 5</caption>\n",
       "<thead>\n",
       "\t<tr><th scope=col>id</th><th scope=col>version</th><th scope=col>license</th><th scope=col>publisher</th><th scope=col>description</th></tr>\n",
       "\t<tr><th scope=col>&lt;chr&gt;</th><th scope=col>&lt;chr&gt;</th><th scope=col>&lt;chr&gt;</th><th scope=col>&lt;chr&gt;</th><th scope=col>&lt;chr&gt;</th></tr>\n",
       "</thead>\n",
       "<tbody>\n",
       "\t<tr><td>hediet.vscode-dr~</td><td>NA               </td><td>NA               </td><td>NA               </td><td>NA               </td></tr>\n",
       "\t<tr><td>hediet.vscode-dr~</td><td>1.6.4            </td><td>GPL-3.0          </td><td>Henning Dieteric~</td><td>This unofficial ~</td></tr>\n",
       "\t<tr><td>julialang.langua~</td><td>NA               </td><td>NA               </td><td>NA               </td><td>NA               </td></tr>\n",
       "\t<tr><td>julialang.langua~</td><td>1.6.28           </td><td>SEE LICENSE IN L~</td><td>julialang        </td><td>Julia Language S~</td></tr>\n",
       "\t<tr><td>ms-python.python~</td><td>2022.10.1        </td><td>MIT              </td><td>Microsoft        </td><td>IntelliSense (Py~</td></tr>\n",
       "\t<tr><td>ms-python.vscode~</td><td>2022.7.40        </td><td>SEE LICENSE IN L~</td><td>Microsoft        </td><td>A performant, fe~</td></tr>\n",
       "\t<tr><td>ms-toolsai.jupyt~</td><td>2022.6.120198181~</td><td>MIT              </td><td>Microsoft        </td><td>Jupyter notebook~</td></tr>\n",
       "\t<tr><td>ms-toolsai.jupyt~</td><td>1.0.0            </td><td>MIT              </td><td>Microsoft        </td><td>Jupyter keymaps ~</td></tr>\n",
       "\t<tr><td>ms-toolsai.jupyt~</td><td>1.0.9            </td><td>MIT              </td><td>Microsoft        </td><td>Renderers for Ju~</td></tr>\n",
       "\t<tr><td>ms-toolsai.jupyt~</td><td>1.0.0            </td><td>MIT              </td><td>Microsoft        </td><td>Jupyter keymaps ~</td></tr>\n",
       "\t<tr><td>ms-toolsai.jupyt~</td><td>1.0.9            </td><td>MIT              </td><td>Microsoft        </td><td>Renderers for Ju~</td></tr>\n",
       "\t<tr><td>ms-vscode.powers~</td><td>2022.6.3         </td><td>SEE LICENSE IN L~</td><td>Microsoft        </td><td>Develop PowerShe~</td></tr>\n",
       "\t<tr><td>quarto.quarto-1.~</td><td>1.29.0           </td><td>MIT              </td><td>Quarto           </td><td>Extension for th~</td></tr>\n",
       "\t<tr><td>reditorsupport.r~</td><td>2.5.2            </td><td>SEE LICENSE IN L~</td><td>REditorSupport   </td><td>R Extension for ~</td></tr>\n",
       "</tbody>\n",
       "</table>\n"
      ],
      "text/latex": [
       "A data.frame: 14 × 5\n",
       "\\begin{tabular}{lllll}\n",
       " id & version & license & publisher & description\\\\\n",
       " <chr> & <chr> & <chr> & <chr> & <chr>\\\\\n",
       "\\hline\n",
       "\t hediet.vscode-dr\\textasciitilde{} & NA                & NA                & NA                & NA               \\\\\n",
       "\t hediet.vscode-dr\\textasciitilde{} & 1.6.4             & GPL-3.0           & Henning Dieteric\\textasciitilde{} & This unofficial \\textasciitilde{}\\\\\n",
       "\t julialang.langua\\textasciitilde{} & NA                & NA                & NA                & NA               \\\\\n",
       "\t julialang.langua\\textasciitilde{} & 1.6.28            & SEE LICENSE IN L\\textasciitilde{} & julialang         & Julia Language S\\textasciitilde{}\\\\\n",
       "\t ms-python.python\\textasciitilde{} & 2022.10.1         & MIT               & Microsoft         & IntelliSense (Py\\textasciitilde{}\\\\\n",
       "\t ms-python.vscode\\textasciitilde{} & 2022.7.40         & SEE LICENSE IN L\\textasciitilde{} & Microsoft         & A performant, fe\\textasciitilde{}\\\\\n",
       "\t ms-toolsai.jupyt\\textasciitilde{} & 2022.6.120198181\\textasciitilde{} & MIT               & Microsoft         & Jupyter notebook\\textasciitilde{}\\\\\n",
       "\t ms-toolsai.jupyt\\textasciitilde{} & 1.0.0             & MIT               & Microsoft         & Jupyter keymaps \\textasciitilde{}\\\\\n",
       "\t ms-toolsai.jupyt\\textasciitilde{} & 1.0.9             & MIT               & Microsoft         & Renderers for Ju\\textasciitilde{}\\\\\n",
       "\t ms-toolsai.jupyt\\textasciitilde{} & 1.0.0             & MIT               & Microsoft         & Jupyter keymaps \\textasciitilde{}\\\\\n",
       "\t ms-toolsai.jupyt\\textasciitilde{} & 1.0.9             & MIT               & Microsoft         & Renderers for Ju\\textasciitilde{}\\\\\n",
       "\t ms-vscode.powers\\textasciitilde{} & 2022.6.3          & SEE LICENSE IN L\\textasciitilde{} & Microsoft         & Develop PowerShe\\textasciitilde{}\\\\\n",
       "\t quarto.quarto-1.\\textasciitilde{} & 1.29.0            & MIT               & Quarto            & Extension for th\\textasciitilde{}\\\\\n",
       "\t reditorsupport.r\\textasciitilde{} & 2.5.2             & SEE LICENSE IN L\\textasciitilde{} & REditorSupport    & R Extension for \\textasciitilde{}\\\\\n",
       "\\end{tabular}\n"
      ],
      "text/markdown": [
       "\n",
       "A data.frame: 14 × 5\n",
       "\n",
       "| id &lt;chr&gt; | version &lt;chr&gt; | license &lt;chr&gt; | publisher &lt;chr&gt; | description &lt;chr&gt; |\n",
       "|---|---|---|---|---|\n",
       "| hediet.vscode-dr~ | NA                | NA                | NA                | NA                |\n",
       "| hediet.vscode-dr~ | 1.6.4             | GPL-3.0           | Henning Dieteric~ | This unofficial ~ |\n",
       "| julialang.langua~ | NA                | NA                | NA                | NA                |\n",
       "| julialang.langua~ | 1.6.28            | SEE LICENSE IN L~ | julialang         | Julia Language S~ |\n",
       "| ms-python.python~ | 2022.10.1         | MIT               | Microsoft         | IntelliSense (Py~ |\n",
       "| ms-python.vscode~ | 2022.7.40         | SEE LICENSE IN L~ | Microsoft         | A performant, fe~ |\n",
       "| ms-toolsai.jupyt~ | 2022.6.120198181~ | MIT               | Microsoft         | Jupyter notebook~ |\n",
       "| ms-toolsai.jupyt~ | 1.0.0             | MIT               | Microsoft         | Jupyter keymaps ~ |\n",
       "| ms-toolsai.jupyt~ | 1.0.9             | MIT               | Microsoft         | Renderers for Ju~ |\n",
       "| ms-toolsai.jupyt~ | 1.0.0             | MIT               | Microsoft         | Jupyter keymaps ~ |\n",
       "| ms-toolsai.jupyt~ | 1.0.9             | MIT               | Microsoft         | Renderers for Ju~ |\n",
       "| ms-vscode.powers~ | 2022.6.3          | SEE LICENSE IN L~ | Microsoft         | Develop PowerShe~ |\n",
       "| quarto.quarto-1.~ | 1.29.0            | MIT               | Quarto            | Extension for th~ |\n",
       "| reditorsupport.r~ | 2.5.2             | SEE LICENSE IN L~ | REditorSupport    | R Extension for ~ |\n",
       "\n"
      ],
      "text/plain": [
       "   id                version           license           publisher        \n",
       "1  hediet.vscode-dr~ NA                NA                NA               \n",
       "2  hediet.vscode-dr~ 1.6.4             GPL-3.0           Henning Dieteric~\n",
       "3  julialang.langua~ NA                NA                NA               \n",
       "4  julialang.langua~ 1.6.28            SEE LICENSE IN L~ julialang        \n",
       "5  ms-python.python~ 2022.10.1         MIT               Microsoft        \n",
       "6  ms-python.vscode~ 2022.7.40         SEE LICENSE IN L~ Microsoft        \n",
       "7  ms-toolsai.jupyt~ 2022.6.120198181~ MIT               Microsoft        \n",
       "8  ms-toolsai.jupyt~ 1.0.0             MIT               Microsoft        \n",
       "9  ms-toolsai.jupyt~ 1.0.9             MIT               Microsoft        \n",
       "10 ms-toolsai.jupyt~ 1.0.0             MIT               Microsoft        \n",
       "11 ms-toolsai.jupyt~ 1.0.9             MIT               Microsoft        \n",
       "12 ms-vscode.powers~ 2022.6.3          SEE LICENSE IN L~ Microsoft        \n",
       "13 quarto.quarto-1.~ 1.29.0            MIT               Quarto           \n",
       "14 reditorsupport.r~ 2.5.2             SEE LICENSE IN L~ REditorSupport   \n",
       "   description      \n",
       "1  NA               \n",
       "2  This unofficial ~\n",
       "3  NA               \n",
       "4  Julia Language S~\n",
       "5  IntelliSense (Py~\n",
       "6  A performant, fe~\n",
       "7  Jupyter notebook~\n",
       "8  Jupyter keymaps ~\n",
       "9  Renderers for Ju~\n",
       "10 Jupyter keymaps ~\n",
       "11 Renderers for Ju~\n",
       "12 Develop PowerShe~\n",
       "13 Extension for th~\n",
       "14 R Extension for ~"
      ]
     },
     "metadata": {},
     "output_type": "display_data"
    }
   ],
   "source": [
    "vscoder::vscode_extension(type = \"info\")"
   ]
  },
  {
   "cell_type": "markdown",
   "metadata": {},
   "source": [
    "### `vscoder::path_extension(extension)`"
   ]
  },
  {
   "cell_type": "code",
   "execution_count": 4,
   "metadata": {
    "vscode": {
     "languageId": "r"
    }
   },
   "outputs": [
    {
     "data": {
      "text/html": [
       "<style>\n",
       ".list-inline {list-style: none; margin:0; padding: 0}\n",
       ".list-inline>li {display: inline-block}\n",
       ".list-inline>li:not(:last-child)::after {content: \"\\00b7\"; padding: 0 .5ex}\n",
       "</style>\n",
       "<ol class=list-inline><li>'C:\\\\Users\\\\Bruno\\\\.vscode\\\\extensions\\\\hediet.vscode-drawio-1.6.2'</li><li>'C:\\\\Users\\\\Bruno\\\\.vscode\\\\extensions\\\\hediet.vscode-drawio-1.6.4'</li></ol>\n"
      ],
      "text/latex": [
       "\\begin{enumerate*}\n",
       "\\item 'C:\\textbackslash{}\\textbackslash{}Users\\textbackslash{}\\textbackslash{}Bruno\\textbackslash{}\\textbackslash{}.vscode\\textbackslash{}\\textbackslash{}extensions\\textbackslash{}\\textbackslash{}hediet.vscode-drawio-1.6.2'\n",
       "\\item 'C:\\textbackslash{}\\textbackslash{}Users\\textbackslash{}\\textbackslash{}Bruno\\textbackslash{}\\textbackslash{}.vscode\\textbackslash{}\\textbackslash{}extensions\\textbackslash{}\\textbackslash{}hediet.vscode-drawio-1.6.4'\n",
       "\\end{enumerate*}\n"
      ],
      "text/markdown": [
       "1. 'C:\\\\Users\\\\Bruno\\\\.vscode\\\\extensions\\\\hediet.vscode-drawio-1.6.2'\n",
       "2. 'C:\\\\Users\\\\Bruno\\\\.vscode\\\\extensions\\\\hediet.vscode-drawio-1.6.4'\n",
       "\n",
       "\n"
      ],
      "text/plain": [
       "[1] \"C:\\\\Users\\\\Bruno\\\\.vscode\\\\extensions\\\\hediet.vscode-drawio-1.6.2\"\n",
       "[2] \"C:\\\\Users\\\\Bruno\\\\.vscode\\\\extensions\\\\hediet.vscode-drawio-1.6.4\""
      ]
     },
     "metadata": {},
     "output_type": "display_data"
    }
   ],
   "source": [
    "vscoder::path_extension(\"hediet.vscode-drawio\")"
   ]
  },
  {
   "cell_type": "markdown",
   "metadata": {},
   "source": [
    "## Review\n",
    "\n",
    "### vscoder 0.2.2.9000 (2022-07-28)\n",
    "\n",
    "#### &gt; vscoder (development)\n",
    "\n",
    "-   development\n",
    "\n",
    "#### &gt; vscoder 0.2.2.9000 (2022-07-28)\n",
    "\n",
    "-   Added function `exists_vscode()` to search installed editor.\n",
    "-   `vscode_extension()` received two arguments: type, a character class\n",
    "    vector that indicates ‘basic’ or ‘extended’ information about\n",
    "    installed extension; and ‘format’, a logical class vector that\n",
    "    indicates whether the return of the function should have abbreviated\n",
    "    lines.\n",
    "-   Internal package improvements.\n",
    "    -   The internal error system of the package has been redone for the\n",
    "        purpose of maintaining long-term code.\n",
    "    -   The package’s internal version control system has been automated\n",
    "        for the purpose of maintaining long-term code.\n",
    "\n",
    "#### &gt; vscoder 0.0.0.9000 (2022-07-22)\n",
    "\n",
    "-   Start of the package."
   ]
  }
 ],
 "metadata": {
  "kernelspec": {
   "display_name": "R",
   "language": "R",
   "name": "ir"
  },
  "language_info": {
   "codemirror_mode": "r",
   "file_extension": ".r",
   "mimetype": "text/x-r-source",
   "name": "R",
   "pygments_lexer": "r",
   "version": "4.1.0"
  },
  "orig_nbformat": 4
 },
 "nbformat": 4,
 "nbformat_minor": 2
}
