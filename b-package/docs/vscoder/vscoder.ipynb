{
 "cells": [
  {
   "cell_type": "markdown",
   "metadata": {},
   "source": [
    "# vscoder\n",
    "\n",
    "Some working functions are provided in the R programming language flow and the VS Code editor. You can check vs code editor version, extensions, and other utilities.\n",
    "\n",
    "## Function\n",
    "\n",
    "|function              |about                  |\n",
    "|:----------------|:----------------------|\n",
    "|path_extension   |VS Code Extension Path |\n",
    "|vscode_extension |VS Code Extension      |\n",
    "|vscode_version   |VS Code Version        |"
   ]
  },
  {
   "cell_type": "markdown",
   "metadata": {},
   "source": [
    "## Usage\n",
    "\n",
    "### `vscoder::vscode_version()`"
   ]
  },
  {
   "cell_type": "code",
   "execution_count": 2,
   "metadata": {
    "vscode": {
     "languageId": "r"
    }
   },
   "outputs": [
    {
     "data": {
      "text/html": [
       "'1.69.2'"
      ],
      "text/latex": [
       "'1.69.2'"
      ],
      "text/markdown": [
       "'1.69.2'"
      ],
      "text/plain": [
       "[1] \"1.69.2\""
      ]
     },
     "metadata": {},
     "output_type": "display_data"
    }
   ],
   "source": [
    "vscoder::vscode_version()"
   ]
  },
  {
   "cell_type": "markdown",
   "metadata": {},
   "source": [
    "### `vscoder::vscode_extension()`"
   ]
  },
  {
   "cell_type": "code",
   "execution_count": 5,
   "metadata": {
    "vscode": {
     "languageId": "r"
    }
   },
   "outputs": [
    {
     "data": {
      "text/html": [
       "<table class=\"dataframe\">\n",
       "<caption>A data.frame: 9 × 2</caption>\n",
       "<thead>\n",
       "\t<tr><th scope=col>id</th><th scope=col>version</th></tr>\n",
       "\t<tr><th scope=col>&lt;chr&gt;</th><th scope=col>&lt;chr&gt;</th></tr>\n",
       "</thead>\n",
       "<tbody>\n",
       "\t<tr><td>hediet.vscode-drawio        </td><td>1.6.4            </td></tr>\n",
       "\t<tr><td>julialang.language-julia    </td><td>1.6.24           </td></tr>\n",
       "\t<tr><td>ms-python.python            </td><td>2022.10.1        </td></tr>\n",
       "\t<tr><td>ms-python.vscode-pylance    </td><td>2022.7.40        </td></tr>\n",
       "\t<tr><td>ms-toolsai.jupyter          </td><td>2022.6.1201981810</td></tr>\n",
       "\t<tr><td>ms-toolsai.jupyter-keymap   </td><td>1.0.0            </td></tr>\n",
       "\t<tr><td>ms-toolsai.jupyter-renderers</td><td>1.0.9            </td></tr>\n",
       "\t<tr><td>quarto.quarto               </td><td>1.28.0           </td></tr>\n",
       "\t<tr><td>reditorsupport.r            </td><td>2.5.2            </td></tr>\n",
       "</tbody>\n",
       "</table>\n"
      ],
      "text/latex": [
       "A data.frame: 9 × 2\n",
       "\\begin{tabular}{ll}\n",
       " id & version\\\\\n",
       " <chr> & <chr>\\\\\n",
       "\\hline\n",
       "\t hediet.vscode-drawio         & 1.6.4            \\\\\n",
       "\t julialang.language-julia     & 1.6.24           \\\\\n",
       "\t ms-python.python             & 2022.10.1        \\\\\n",
       "\t ms-python.vscode-pylance     & 2022.7.40        \\\\\n",
       "\t ms-toolsai.jupyter           & 2022.6.1201981810\\\\\n",
       "\t ms-toolsai.jupyter-keymap    & 1.0.0            \\\\\n",
       "\t ms-toolsai.jupyter-renderers & 1.0.9            \\\\\n",
       "\t quarto.quarto                & 1.28.0           \\\\\n",
       "\t reditorsupport.r             & 2.5.2            \\\\\n",
       "\\end{tabular}\n"
      ],
      "text/markdown": [
       "\n",
       "A data.frame: 9 × 2\n",
       "\n",
       "| id &lt;chr&gt; | version &lt;chr&gt; |\n",
       "|---|---|\n",
       "| hediet.vscode-drawio         | 1.6.4             |\n",
       "| julialang.language-julia     | 1.6.24            |\n",
       "| ms-python.python             | 2022.10.1         |\n",
       "| ms-python.vscode-pylance     | 2022.7.40         |\n",
       "| ms-toolsai.jupyter           | 2022.6.1201981810 |\n",
       "| ms-toolsai.jupyter-keymap    | 1.0.0             |\n",
       "| ms-toolsai.jupyter-renderers | 1.0.9             |\n",
       "| quarto.quarto                | 1.28.0            |\n",
       "| reditorsupport.r             | 2.5.2             |\n",
       "\n"
      ],
      "text/plain": [
       "  id                           version          \n",
       "1 hediet.vscode-drawio         1.6.4            \n",
       "2 julialang.language-julia     1.6.24           \n",
       "3 ms-python.python             2022.10.1        \n",
       "4 ms-python.vscode-pylance     2022.7.40        \n",
       "5 ms-toolsai.jupyter           2022.6.1201981810\n",
       "6 ms-toolsai.jupyter-keymap    1.0.0            \n",
       "7 ms-toolsai.jupyter-renderers 1.0.9            \n",
       "8 quarto.quarto                1.28.0           \n",
       "9 reditorsupport.r             2.5.2            "
      ]
     },
     "metadata": {},
     "output_type": "display_data"
    }
   ],
   "source": [
    "vscoder::vscode_extension()"
   ]
  },
  {
   "cell_type": "markdown",
   "metadata": {},
   "source": [
    "### `vscoder::path_extension(extension)`"
   ]
  },
  {
   "cell_type": "code",
   "execution_count": 4,
   "metadata": {
    "vscode": {
     "languageId": "r"
    }
   },
   "outputs": [
    {
     "data": {
      "text/html": [
       "<style>\n",
       ".list-inline {list-style: none; margin:0; padding: 0}\n",
       ".list-inline>li {display: inline-block}\n",
       ".list-inline>li:not(:last-child)::after {content: \"\\00b7\"; padding: 0 .5ex}\n",
       "</style>\n",
       "<ol class=list-inline><li>'C:\\\\Users\\\\Bruno\\\\.vscode\\\\extensions\\\\hediet.vscode-drawio-1.6.2'</li><li>'C:\\\\Users\\\\Bruno\\\\.vscode\\\\extensions\\\\hediet.vscode-drawio-1.6.4'</li></ol>\n"
      ],
      "text/latex": [
       "\\begin{enumerate*}\n",
       "\\item 'C:\\textbackslash{}\\textbackslash{}Users\\textbackslash{}\\textbackslash{}Bruno\\textbackslash{}\\textbackslash{}.vscode\\textbackslash{}\\textbackslash{}extensions\\textbackslash{}\\textbackslash{}hediet.vscode-drawio-1.6.2'\n",
       "\\item 'C:\\textbackslash{}\\textbackslash{}Users\\textbackslash{}\\textbackslash{}Bruno\\textbackslash{}\\textbackslash{}.vscode\\textbackslash{}\\textbackslash{}extensions\\textbackslash{}\\textbackslash{}hediet.vscode-drawio-1.6.4'\n",
       "\\end{enumerate*}\n"
      ],
      "text/markdown": [
       "1. 'C:\\\\Users\\\\Bruno\\\\.vscode\\\\extensions\\\\hediet.vscode-drawio-1.6.2'\n",
       "2. 'C:\\\\Users\\\\Bruno\\\\.vscode\\\\extensions\\\\hediet.vscode-drawio-1.6.4'\n",
       "\n",
       "\n"
      ],
      "text/plain": [
       "[1] \"C:\\\\Users\\\\Bruno\\\\.vscode\\\\extensions\\\\hediet.vscode-drawio-1.6.2\"\n",
       "[2] \"C:\\\\Users\\\\Bruno\\\\.vscode\\\\extensions\\\\hediet.vscode-drawio-1.6.4\""
      ]
     },
     "metadata": {},
     "output_type": "display_data"
    }
   ],
   "source": [
    "vscoder::path_extension(\"hediet.vscode-drawio\")"
   ]
  },
  {
   "cell_type": "markdown",
   "metadata": {},
   "source": [
    "## Review\n",
    "\n",
    "#### Note from version - vscoder 0.0.0.9000\n",
    "\n",
    "##### `vscoder` (development)\n",
    "- development\n",
    "\n",
    "##### `vscoder` 0.0.0.9000 (2022-07-22)\n",
    "- Start of the package."
   ]
  }
 ],
 "metadata": {
  "kernelspec": {
   "display_name": "R",
   "language": "R",
   "name": "ir"
  },
  "language_info": {
   "codemirror_mode": "r",
   "file_extension": ".r",
   "mimetype": "text/x-r-source",
   "name": "R",
   "pygments_lexer": "r",
   "version": "4.1.0"
  },
  "orig_nbformat": 4
 },
 "nbformat": 4,
 "nbformat_minor": 2
}
